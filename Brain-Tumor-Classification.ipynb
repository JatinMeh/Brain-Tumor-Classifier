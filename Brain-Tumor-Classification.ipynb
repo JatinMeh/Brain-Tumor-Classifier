{
 "cells": [
  {
   "cell_type": "markdown",
   "id": "911a953f-e395-43f7-9ab8-2f790aa7d737",
   "metadata": {},
   "source": [
    "# Brain Tumor Classification\n",
    "\n",
    "This Notebook looks into using various Python-based machine learning techniques in an attempt to build a machine learning model capable of predicting whether or not someone has Brain tumor based on their MRI Scans.\n",
    "\n",
    "Our Approach:\n",
    "1. Problem Statement\n",
    "2. Data\n",
    "3. Evaluation\n",
    "4. Features\n",
    "4. Modeling\n",
    "5. Training\n",
    "6. Testing\n",
    "\n",
    "## 1. Problem Statement\n",
    "In a statement,\n",
    ">Given MRI Scans, Can we predict whether a patient has brain tumor or not?\n",
    "\n",
    "## 2. Data\n",
    "The Data used in this project can be found on Kaggle: https://www.kaggle.com/datasets/masoudnickparvar/brain-tumor-mri-dataset/data\n",
    "\n",
    "## 3. Evaluation\n",
    ">Can we reach 98% accuract at predicting whether or not a patient has brain tumor?\n",
    "\n",
    "## 4. Features\n",
    "This dataset contains 7023 images of human brain MRI images which are classified into 4 classes:\n",
    "* glioma\n",
    "* meningioma\n",
    "* notumor\n",
    "* pituitary\n"
   ]
  },
  {
   "cell_type": "markdown",
   "id": "6c67c8f6-551d-402b-9b99-34d787ab86bd",
   "metadata": {},
   "source": [
    "## Preaparing the Libraries"
   ]
  },
  {
   "cell_type": "code",
   "execution_count": 1,
   "id": "ab431035-d3fd-4afc-8766-9edd7c7a6ebb",
   "metadata": {},
   "outputs": [],
   "source": [
    "#importing all the libraries we need\n",
    "\n",
    "from sklearn.metrics import accuracy_score, precision_score, recall_score, f1_score\n",
    "import numpy as np\n",
    "import random\n",
    "import os\n",
    "\n",
    "#importing torch libraries\n",
    "\n",
    "import torch\n",
    "import torch.nn as nn\n",
    "import torchvision.models as models\n",
    "import torch.optim as optim\n",
    "import torch.nn.functional as F\n",
    "from torchvision import datasets, transforms\n",
    "from torch.utils.data import DataLoader\n",
    "\n",
    "#importing libraries for visualizing\n",
    "import matplotlib.pyplot as plt\n",
    "from lime import lime_image\n",
    "from skimage.segmentation import mark_boundaries\n",
    "from PIL import Image"
   ]
  },
  {
   "cell_type": "markdown",
   "id": "9a21c95c-c58e-496f-b881-3fed97e1d558",
   "metadata": {},
   "source": [
    "## Creating Training and Testing Data for our model"
   ]
  },
  {
   "cell_type": "code",
   "execution_count": 2,
   "id": "158f9376-66ee-4e55-9870-97445bfe6336",
   "metadata": {},
   "outputs": [],
   "source": [
    "# Define transformations for training and testing\n",
    "transform = transforms.Compose([\n",
    "    transforms.Grayscale(num_output_channels=3),\n",
    "    transforms.Resize((224, 224)), \n",
    "    transforms.RandomHorizontalFlip(p=0.5),\n",
    "    transforms.RandomRotation(degrees=15),\n",
    "    transforms.RandomResizedCrop(224, scale=(0.8, 1.0)),\n",
    "    transforms.ColorJitter(brightness=0.2, contrast=0.2, saturation=0.2, hue=0.1),\n",
    "    transforms.RandomAffine(degrees=0, translate=(0.1, 0.1)),\n",
    "    transforms.ToTensor(),\n",
    "    transforms.Normalize(mean=[0.485, 0.456, 0.406], std=[0.229, 0.224, 0.225]),\n",
    "])\n",
    "\n",
    "# Define directories for training and testing\n",
    "train_dir = os.path.join('', 'Training')\n",
    "test_dir = os.path.join('', 'Testing')\n",
    "\n",
    "# Load datasets\n",
    "try:\n",
    "    train_dataset = datasets.ImageFolder(root=train_dir, transform=transform)\n",
    "    test_dataset = datasets.ImageFolder(root=test_dir, transform=transform)\n",
    "except Exception as e:\n",
    "    print(f\"Error loading dataset: {e}\")\n",
    "    raise\n",
    "\n",
    "# Data loaders\n",
    "# train_subset = torch.utils.data.Subset(train_dataset, range(1000)) #Set Range for the data.\n",
    "train_loader = DataLoader(train_dataset, batch_size=32, shuffle=True)\n",
    "test_loader = DataLoader(test_dataset, batch_size=32, shuffle=False)\n",
    "\n",
    "# Class labels\n",
    "classes = ['glioma', 'meningioma', 'notumor', 'pituitary']"
   ]
  },
  {
   "cell_type": "markdown",
   "id": "3b913381-5250-49a5-b3c6-bee808d3b811",
   "metadata": {},
   "source": [
    "## 5. Modeling\n",
    "How we are going to go forward with modeling\n",
    "* Preprocess the MRI image by non-local means filter denoises and enhance the contrast.\n",
    "* AlexNet architecture extract deep features from MRI images avoids over fit problem.\n",
    "* GRU based on RNN that make it more efficient to vanish the gradient problem.\n",
    "* Hybrid AlexNet-GRU architecture detects & classify the four classes of brain tumors."
   ]
  },
  {
   "cell_type": "code",
   "execution_count": 27,
   "id": "b2a1ce58-0fca-4f2a-a3ad-45ba9029a749",
   "metadata": {},
   "outputs": [],
   "source": [
    "# Load pre-trained AlexNet model\n",
    "alexnet = models.alexnet(weights=models.AlexNet_Weights.IMAGENET1K_V1)\n",
    "alexnet.eval()\n",
    "\n",
    "# GRU-based classifier\n",
    "class GRUClassifier(nn.Module):\n",
    "    def __init__(self, input_size, hidden_size, output_size, num_layers=1):\n",
    "        super(GRUClassifier, self).__init__()\n",
    "        self.gru = nn.GRU(input_size, hidden_size, num_layers, batch_first=True)\n",
    "        self.fc = nn.Linear(hidden_size, output_size)\n",
    "\n",
    "    def forward(self, x):\n",
    "        h0 = torch.zeros(1, x.size(0), hidden_size).to(x.device)\n",
    "        out, _ = self.gru(x, h0)\n",
    "        out = self.fc(out[:, -1, :])\n",
    "        return out\n",
    "\n",
    "# Hybrid model combining AlexNet with GRU\n",
    "class HybridAlexNetGRU(nn.Module):\n",
    "    def __init__(self, alexnet, gru_classifier):\n",
    "        super(HybridAlexNetGRU, self).__init__()\n",
    "        self.alexnet = alexnet.features\n",
    "        self.gru = gru_classifier\n",
    "\n",
    "    def forward(self, x):\n",
    "        features = self.alexnet(x)\n",
    "        features = features.view(features.size(0), -1)\n",
    "        output = self.gru(features.unsqueeze(1))\n",
    "        return output\n",
    "\n",
    "# Initialize the model\n",
    "hidden_size = 1024\n",
    "output_size = 4\n",
    "gru_classifier = GRUClassifier(input_size=9216, hidden_size=hidden_size, output_size=output_size)\n",
    "model = HybridAlexNetGRU(alexnet, gru_classifier)\n",
    "device = torch.device(\"cuda\" if torch.cuda.is_available() else \"cpu\")\n",
    "model = model.to(device)"
   ]
  },
  {
   "cell_type": "markdown",
   "id": "9ae16335-ff27-445a-b307-429aeefb6966",
   "metadata": {},
   "source": [
    "## 6. Training"
   ]
  },
  {
   "cell_type": "code",
   "execution_count": 21,
   "id": "7bb153c0-d6c3-4f99-9a70-d42279f23132",
   "metadata": {
    "scrolled": true
   },
   "outputs": [
    {
     "name": "stdout",
     "output_type": "stream",
     "text": [
      "Epoch [1/20], Loss: 0.3875, Accuracy: 85.35%\n",
      "Epoch [2/20], Loss: 0.1891, Accuracy: 93.17%\n",
      "Epoch [3/20], Loss: 0.1519, Accuracy: 94.59%\n",
      "Epoch [4/20], Loss: 0.1111, Accuracy: 96.06%\n",
      "Epoch [5/20], Loss: 0.1031, Accuracy: 96.32%\n",
      "Epoch [6/20], Loss: 0.0825, Accuracy: 96.94%\n",
      "Epoch [7/20], Loss: 0.0866, Accuracy: 96.88%\n",
      "Epoch [8/20], Loss: 0.0764, Accuracy: 97.29%\n",
      "Epoch [9/20], Loss: 0.0533, Accuracy: 98.23%\n",
      "Epoch [10/20], Loss: 0.0490, Accuracy: 98.37%\n",
      "Epoch [11/20], Loss: 0.0376, Accuracy: 98.77%\n",
      "Epoch [12/20], Loss: 0.0493, Accuracy: 98.13%\n",
      "Epoch [13/20], Loss: 0.0333, Accuracy: 98.84%\n",
      "Epoch [14/20], Loss: 0.0346, Accuracy: 98.77%\n",
      "Epoch [15/20], Loss: 0.0307, Accuracy: 98.90%\n",
      "Epoch [16/20], Loss: 0.0356, Accuracy: 98.90%\n",
      "Epoch [17/20], Loss: 0.0259, Accuracy: 99.21%\n",
      "Epoch [18/20], Loss: 0.0232, Accuracy: 99.21%\n",
      "Epoch [19/20], Loss: 0.0248, Accuracy: 99.11%\n",
      "Epoch [20/20], Loss: 0.0247, Accuracy: 99.30%\n",
      "Training complete!\n"
     ]
    }
   ],
   "source": [
    "# Loss function and optimizer\n",
    "criterion = nn.CrossEntropyLoss()\n",
    "optimizer = optim.Adam(model.parameters(), lr=0.0001, weight_decay=0)\n",
    "#optimizer = optim.Adam(model.parameters(), lr=0.001, eps=1e-3, amsgrad=True)\n",
    "\n",
    "# Training loop\n",
    "num_epochs = 20\n",
    "for epoch in range(num_epochs):\n",
    "    running_loss = 0.0\n",
    "    correct_predictions = 0\n",
    "    total_samples = 0\n",
    "    for inputs, labels in train_loader:\n",
    "        inputs, labels = inputs.to(device), labels.to(device)\n",
    "        optimizer.zero_grad()\n",
    "        outputs = model(inputs)\n",
    "        loss = criterion(outputs, labels)\n",
    "        loss.backward()\n",
    "        optimizer.step()\n",
    "        running_loss += loss.item() \n",
    "\n",
    "        _, predicted = torch.max(outputs, 1)  # Get class with highest probability\n",
    "        total_samples += labels.size(0)\n",
    "        correct_predictions += (predicted == labels).sum().item()\n",
    "\n",
    "    epoch_loss = running_loss / len(train_loader)\n",
    "    epoch_accuracy = 100 * correct_predictions / total_samples\n",
    "\n",
    "    print(f'Epoch [{epoch+1}/{num_epochs}], Loss: {epoch_loss:.4f}, Accuracy: {epoch_accuracy:.2f}%')\n",
    "\n",
    "print(\"Training complete!\")"
   ]
  },
  {
   "cell_type": "markdown",
   "id": "c668e3d2-bc0a-4228-a394-8c819a4777ba",
   "metadata": {},
   "source": [
    "## 7. Testing\n",
    "Result Expected,\n",
    ">Our goal is to test the predicted outputs with the already known outputs to find out the accuracy of our model"
   ]
  },
  {
   "cell_type": "code",
   "execution_count": 22,
   "id": "3515593a-d830-4151-8da9-4a6405358166",
   "metadata": {},
   "outputs": [
    {
     "name": "stdout",
     "output_type": "stream",
     "text": [
      "Accuracy on test data: 97.94%\n",
      "Class 0: Precision = 1.00, Recall = 0.93, F1-score = 0.96\n",
      "Class 1: Precision = 0.94, Recall = 0.98, F1-score = 0.96\n",
      "Class 2: Precision = 1.00, Recall = 1.00, F1-score = 1.00\n",
      "Class 3: Precision = 0.98, Recall = 1.00, F1-score = 0.99\n"
     ]
    }
   ],
   "source": [
    "# Initialize variables for tracking predictions and true labels\n",
    "all_labels = []\n",
    "all_predictions = []\n",
    "\n",
    "# Testing loop\n",
    "correct = 0\n",
    "total = 0\n",
    "\n",
    "with torch.no_grad():\n",
    "    for inputs, labels in test_loader:\n",
    "        inputs, labels = inputs.to(device), labels.to(device)\n",
    "\n",
    "        # Forward pass\n",
    "        outputs = model(inputs)\n",
    "        _, predicted = torch.max(outputs.data, 1)\n",
    "\n",
    "        total += labels.size(0)\n",
    "        correct += (predicted == labels).sum().item()\n",
    "\n",
    "        # Collect all labels and predictions for metrics calculation\n",
    "        all_labels.extend(labels.cpu().numpy())\n",
    "        all_predictions.extend(predicted.cpu().numpy())\n",
    "\n",
    "# Calculate accuracy\n",
    "accuracy = 100 * correct / total\n",
    "print(f'Accuracy on test data: {accuracy:.2f}%')\n",
    "\n",
    "# Calculate precision, recall, and F1 score for each class\n",
    "precision = precision_score(all_labels, all_predictions, average=None)\n",
    "recall = recall_score(all_labels, all_predictions, average=None)\n",
    "f1 = f1_score(all_labels, all_predictions, average=None)\n",
    "\n",
    "# Display the results\n",
    "for i, (p, r, f) in enumerate(zip(precision, recall, f1)):\n",
    "    print(f\"Class {i}: Precision = {p:.2f}, Recall = {r:.2f}, F1-score = {f:.2f}\")"
   ]
  },
  {
   "cell_type": "code",
   "execution_count": 25,
   "id": "a1d3b491-a052-44e0-b331-8d429febee28",
   "metadata": {},
   "outputs": [
    {
     "data": {
      "application/vnd.jupyter.widget-view+json": {
       "model_id": "434b01679dee439db51f220c9fdb845a",
       "version_major": 2,
       "version_minor": 0
      },
      "text/plain": [
       "  0%|          | 0/1000 [00:00<?, ?it/s]"
      ]
     },
     "metadata": {},
     "output_type": "display_data"
    },
    {
     "data": {
      "image/png": "[encoded data removed]",
      "text/plain": [
       "<Figure size 640x480 with 2 Axes>"
      ]
     },
     "metadata": {},
     "output_type": "display_data"
    },
    {
     "name": "stdout",
     "output_type": "stream",
     "text": [
      "Raw logits: tensor([[-4.0031, -0.9428, -2.5029, 10.5391]], device='cuda:0')\n",
      "tensor([3], device='cuda:0')\n",
      "Testing\\pituitary\\Te-pi_0169.jpg\n",
      "The predicted tumor type is: Pituitary\n"
     ]
    }
   ],
   "source": [
    "# Initialize the LIME image explainer\n",
    "explainer = lime_image.LimeImageExplainer()\n",
    "\n",
    "def explain_image(model, image):\n",
    "    # Convert image to RGB if it's grayscale\n",
    "    if image.mode != 'RGB':\n",
    "        image = image.convert('RGB')\n",
    "\n",
    "    # Create a prediction function for LIME\n",
    "    def batch_predict(images):\n",
    "        model.eval()\n",
    "        \n",
    "        # Convert NumPy array back to PIL Image\n",
    "        pil_images = [Image.fromarray(img.astype('uint8')) for img in images]\n",
    "        \n",
    "        # Apply the transform and ensure 4D tensor: (batch_size, channels, height, width)\n",
    "        batch = torch.stack([transform(img) for img in pil_images], dim=0).to(device)\n",
    "\n",
    "        logits = model(batch)\n",
    "        return logits.cpu().detach().numpy()\n",
    "\n",
    "    # Explain the prediction\n",
    "    explanation = explainer.explain_instance(np.array(image), batch_predict, top_labels=1, hide_color=0, num_samples=1000)\n",
    "\n",
    "    # Get image and mask from LIME\n",
    "    temp, mask = explanation.get_image_and_mask(explanation.top_labels[0], positive_only=True, num_features=5, hide_rest=False)\n",
    "\n",
    "    # Display the image\n",
    "    plt.subplot(1, 2, 1)\n",
    "    plt.imshow(np.array(temp).astype('uint8'))\n",
    "    plt.title('Original Image: Tumor Type')\n",
    "    plt.xlabel('Label: Glioma')  # Adjust this label according to the actual class\n",
    "    plt.axis('off')\n",
    "    \n",
    "    # Masked explanation with label\n",
    "    plt.subplot(1, 2, 2)\n",
    "    plt.imshow(mask, cmap='jet', alpha=0.5)  # Use a colormap for visualization\n",
    "    plt.title('LIME Explanation Mask')\n",
    "    plt.xlabel('Features contributing to prediction')\n",
    "    plt.axis('off')\n",
    "    \n",
    "    plt.show()\n",
    "\n",
    "def predict_tumor_type(image_path, model):\n",
    "    # Open and preprocess the image\n",
    "    image = Image.open(image_path).convert('RGB')\n",
    "    image = transform(image).unsqueeze(0).to(device)  # Add batch dimension\n",
    "    \n",
    "    # Forward pass\n",
    "    with torch.no_grad():\n",
    "        output = model(image)\n",
    "        print(f'Raw logits: {output}')  # Check output values\n",
    "        _, predicted = torch.max(output, 1)\n",
    "\n",
    "    # Map predictions to tumor types\n",
    "    classes = ['Glioma', 'Meningioma', 'No Tumor', 'Pituitary']\n",
    "    print(predicted)\n",
    "    tumor_type = classes[predicted.item()]\n",
    "\n",
    "    return tumor_type\n",
    "\n",
    "# Load a test image\n",
    "class_folder = random.choice(os.listdir(test_dir))\n",
    "class_path = os.path.join(test_dir, class_folder)\n",
    "\n",
    "test_img_name = random.choice(os.listdir(class_path))\n",
    "test_img_path = os.path.join(class_path, test_img_name)\n",
    "\n",
    "test_image = Image.open(test_img_path)\n",
    "\n",
    "# Explain prediction\n",
    "explain_image(model, test_image)\n",
    "\n",
    "tumor_type = predict_tumor_type(test_img_path, model)\n",
    "print(test_img_path)\n",
    "print(f'The predicted tumor type is: {tumor_type}')"
   ]
  },
  {
   "cell_type": "code",
   "execution_count": null,
   "id": "9a3ee4d4-2cde-4df7-8de5-e68eeee13930",
   "metadata": {},
   "outputs": [],
   "source": []
  },
  {
   "cell_type": "code",
   "execution_count": 26,
   "id": "cffd4616-4359-4939-a401-c00a22719dc4",
   "metadata": {},
   "outputs": [],
   "source": [
    "#Saving the model\n",
    "torch.save(model.state_dict(), 'hybrid_alexnet_gru_model.pth')"
   ]
  },
  {
   "cell_type": "code",
   "execution_count": null,
   "id": "1bd0567f-40c9-41b9-bd2b-92c1d1e64d63",
   "metadata": {},
   "outputs": [],
   "source": []
  }
 ],
 "metadata": {
  "kernelspec": {
   "display_name": "Python 3 (ipykernel)",
   "language": "python",
   "name": "python3"
  },
  "language_info": {
   "codemirror_mode": {
    "name": "ipython",
    "version": 3
   },
   "file_extension": ".py",
   "mimetype": "text/x-python",
   "name": "python",
   "nbconvert_exporter": "python",
   "pygments_lexer": "ipython3",
   "version": "3.12.5"
  }
 },
 "nbformat": 4,
 "nbformat_minor": 5
}
